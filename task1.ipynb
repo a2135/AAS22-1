{
  "metadata": {
    "language_info": {
      "codemirror_mode": {
        "name": "python",
        "version": 3
      },
      "file_extension": ".py",
      "mimetype": "text/x-python",
      "name": "python",
      "nbconvert_exporter": "python",
      "pygments_lexer": "ipython3",
      "version": "3.8"
    },
    "kernelspec": {
      "name": "python",
      "display_name": "Pyolite",
      "language": "python"
    }
  },
  "nbformat_minor": 4,
  "nbformat": 4,
  "cells": [
    {
      "cell_type": "markdown",
      "source": "# Домашнее задание #1",
      "metadata": {}
    },
    {
      "cell_type": "markdown",
      "source": "## 1. Посчитать сумму ряда 0 - 88888888",
      "metadata": {}
    },
    {
      "cell_type": "code",
      "source": "print(f\"Сумма чисел от 0 до 88888888 (включительно) равна {sum(range(88888889))}\")",
      "metadata": {
        "trusted": true
      },
      "execution_count": 1,
      "outputs": [
        {
          "name": "stdout",
          "text": "Сумма чисел от 0 до 88888888 (включительно) равна 3950617249382716\n",
          "output_type": "stream"
        }
      ]
    },
    {
      "cell_type": "markdown",
      "source": "## 2. Посчитать среднее арифметическое ряда [3, 4, 56, 100, 2, 2, 3]",
      "metadata": {}
    },
    {
      "cell_type": "code",
      "source": "numbers = [3, 4, 56, 100, 2, 2, 3]\nprint(f\"Среднее арифметическое ряда {numbers} равно {sum(numbers) / len(numbers)}\")",
      "metadata": {
        "trusted": true
      },
      "execution_count": 2,
      "outputs": [
        {
          "name": "stdout",
          "text": "Среднее арифметическое ряда [3, 4, 56, 100, 2, 2, 3] равно 24.285714285714285\n",
          "output_type": "stream"
        }
      ]
    },
    {
      "cell_type": "markdown",
      "source": "## 3. Заменить в строке \"asdxfghyxyx\" все буквы \"х\" на \"у\"",
      "metadata": {}
    },
    {
      "cell_type": "code",
      "source": "orig_string = \"asdxfghyxyx\"\nnew_string = \"\"\nfor letter in orig_string:\n    if letter == \"x\":\n        new_string += \"y\"\n    else:\n        new_string += letter\nprint(f'После замены всех букв \"x\" на \"y\" строка {orig_string} выглядит так: ', end=\"\")\norig_string = new_string\nprint(orig_string)",
      "metadata": {
        "trusted": true
      },
      "execution_count": 3,
      "outputs": [
        {
          "name": "stdout",
          "text": "После замены всех букв \"x\" на \"y\" строка asdxfghyxyx выглядит так: asdyfghyyyy\n",
          "output_type": "stream"
        }
      ]
    },
    {
      "cell_type": "markdown",
      "source": "## 4. Посчитать произведение чисел [3, 4, 56, 100, 15, 2, 20, 30], кратных и 3, и 5",
      "metadata": {}
    },
    {
      "cell_type": "code",
      "source": "numbers = [3, 4, 56, 100, 15, 2, 20, 30]\nproduct = 1\nfor number in numbers:\n    if number % 15 == 0:\n        product *= number\nprint(f\"Произведение чисел ряда {numbers}, кратных и 3, и 5, равно {product}\")",
      "metadata": {
        "trusted": true
      },
      "execution_count": 4,
      "outputs": [
        {
          "name": "stdout",
          "text": "Произведение чисел ряда [3, 4, 56, 100, 15, 2, 20, 30], кратных и 3, и 5, равно 450\n",
          "output_type": "stream"
        }
      ]
    },
    {
      "cell_type": "markdown",
      "source": "## 5. Заменить все буквы \"х\" на \"у\" в исходной строке без использования дополнительной строки",
      "metadata": {}
    },
    {
      "cell_type": "raw",
      "source": "'''orig_string = \"asdxfghyxyx\"\nletters = list(orig_string)\nfor i in range(len(letters)):\n    if letters[i] == \"x\":\n        letters[i] = \"y\"\nprint(f'После замены всех букв \"x\" на \"y\" строка {orig_string} выглядит так: ', end=\"\")\norig_string = \"\".join(letters)\nprint(orig_string)\n'''\nprint(\"Строки являются неизменяемыми. Заменить символы в строке без создания новой строки невозможно.\")",
      "metadata": {}
    }
  ]
}